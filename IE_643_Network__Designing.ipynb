{
  "nbformat": 4,
  "nbformat_minor": 0,
  "metadata": {
    "colab": {
      "name": "IE_643_Network__Designing.ipynb",
      "provenance": [],
      "collapsed_sections": []
    },
    "kernelspec": {
      "name": "python3",
      "display_name": "Python 3"
    },
    "accelerator": "GPU"
  },
  "cells": [
    {
      "cell_type": "markdown",
      "metadata": {
        "id": "tirvVtLPD6XO",
        "colab_type": "text"
      },
      "source": [
        "# SHUBHAM SHARMA\n",
        "## IIT BOMBAY\n",
        "This code is to train an architecture in such a way that that is predicts two things weather an image is object or not and weather an object is which type of object or none of these"
      ]
    },
    {
      "cell_type": "markdown",
      "metadata": {
        "id": "IBijZuJsEiNd",
        "colab_type": "text"
      },
      "source": [
        "The label name for :\n",
        "1. car = /m/0k4j\n",
        "2. Person = /m/01g317\n",
        "3. Mobile phone = /m/050k8\n",
        "\n",
        "For the first architecture:\n",
        "\n",
        "1. 1 = object\n",
        "2. 0 = not object\n",
        "\n",
        "For the second archutecture:\n",
        "\n",
        "1. 0 = Not object\n",
        "2. 1 = Car\n",
        "3. 2 = Person\n",
        "4. 3 = Mobile Phone\n",
        "\n",
        "\n",
        "Now let us write the code to make array of these images"
      ]
    },
    {
      "cell_type": "code",
      "metadata": {
        "id": "oeBPw23nBtq6",
        "colab_type": "code",
        "colab": {}
      },
      "source": [
        "from google.colab import drive\n",
        "drive.mount('/content/gdrive')"
      ],
      "execution_count": 0,
      "outputs": []
    },
    {
      "cell_type": "code",
      "metadata": {
        "id": "gTpS29MXFHxu",
        "colab_type": "code",
        "outputId": "d0fe4217-e90f-4f8f-af4a-7c3c9f75bf53",
        "colab": {
          "base_uri": "https://localhost:8080/",
          "height": 79
        }
      },
      "source": [
        "# For plotting, arrays and other things\n",
        "import numpy as np\n",
        "import matplotlib.pyplot as plt\n",
        "from keras.utils import to_categorical\n",
        "\n",
        "#For Deep learning \n",
        "import keras\n",
        "from keras import callbacks \n",
        "from keras.models import Model\n",
        "from keras.layers import Dense, Dropout, Flatten, BatchNormalization\n",
        "from keras.layers import Conv2D, MaxPooling2D, Input\n",
        "from keras.optimizers import RMSprop,SGD, adam #Optimizers"
      ],
      "execution_count": 0,
      "outputs": [
        {
          "output_type": "stream",
          "text": [
            "Using TensorFlow backend.\n"
          ],
          "name": "stderr"
        },
        {
          "output_type": "display_data",
          "data": {
            "text/html": [
              "<p style=\"color: red;\">\n",
              "The default version of TensorFlow in Colab will soon switch to TensorFlow 2.x.<br>\n",
              "We recommend you <a href=\"https://www.tensorflow.org/guide/migrate\" target=\"_blank\">upgrade</a> now \n",
              "or ensure your notebook will continue to use TensorFlow 1.x via the <code>%tensorflow_version 1.x</code> magic:\n",
              "<a href=\"https://colab.research.google.com/notebooks/tensorflow_version.ipynb\" target=\"_blank\">more info</a>.</p>\n"
            ],
            "text/plain": [
              "<IPython.core.display.HTML object>"
            ]
          },
          "metadata": {
            "tags": []
          }
        }
      ]
    },
    {
      "cell_type": "code",
      "metadata": {
        "id": "3z_LlgTJFq_2",
        "colab_type": "code",
        "colab": {}
      },
      "source": [
        "def network(width = 256, height = 256, depth = 3, classes_net1 = 2, classes_net2 = 4,weightsPath=None):\n",
        "  bn_flag = True\n",
        "  inputs = Input((width, height , depth))\n",
        "  conv1 = Conv2D(64, (3, 3), activation='relu', padding='same')(inputs)\n",
        "  conv1 = BatchNormalization(axis = -1)(conv1,training=bn_flag)\n",
        "  conv1 = Conv2D(64, (3, 3), activation='relu', padding='same')(conv1)\n",
        "  conv1 = BatchNormalization(axis= -1)(conv1,training=bn_flag)\n",
        "  pool1 = MaxPooling2D(pool_size=(2, 2))(conv1)\n",
        "  ##\n",
        "  conv2 = Conv2D(128, (3, 3), activation='relu', padding='same')(pool1)\n",
        "  conv2 = BatchNormalization(axis = -1)(conv2,training=bn_flag)\n",
        "  conv2 = Conv2D(128, (3, 3), activation='relu', padding='same')(conv2)\n",
        "  conv2 = BatchNormalization(axis= -1)(conv2,training=bn_flag)\n",
        "  pool2 = MaxPooling2D(pool_size=(2, 2))(conv2)\n",
        "  ##\n",
        "  conv3 = Conv2D(256, (3, 3), activation='relu', padding='same')(pool2)\n",
        "  conv3 = BatchNormalization(axis = -1)(conv3,training=bn_flag)\n",
        "  conv3 = Conv2D(256, (3, 3), activation='relu', padding='same')(conv3)\n",
        "  conv3 = BatchNormalization(axis = -1)(conv3,training=bn_flag)\n",
        "  conv3 = Conv2D(256, (3, 3), activation='relu', padding='same')(conv3)\n",
        "  conv3 = BatchNormalization(axis = -1)(conv3,training=bn_flag)\n",
        "  pool3 = MaxPooling2D(pool_size=(2, 2))(conv3)\n",
        "  ##\n",
        "  conv4 = Conv2D(512, (3, 3), activation='relu', padding='same')(pool3)\n",
        "  conv4 = BatchNormalization(axis = -1)(conv4,training=bn_flag)\n",
        "  conv4 = Conv2D(512, (3, 3), activation='relu', padding='same')(conv4)\n",
        "  conv4 = BatchNormalization(axis = -1)(conv4,training=bn_flag)\n",
        "  conv4 = Conv2D(512, (3, 3), activation='relu', padding='same')(conv4)\n",
        "  conv4 = BatchNormalization(axis = -1)(conv4,training=bn_flag)\n",
        "  pool4 = MaxPooling2D(pool_size=(2, 2))(conv4)\n",
        "  ##\n",
        "  conv5 = Conv2D(512, (3, 3), activation='relu', padding='same')(pool4)\n",
        "  conv5 = BatchNormalization(axis = -1)(conv5,training=bn_flag)\n",
        "  conv5 = Conv2D(512, (3, 3), activation='relu', padding='same')(conv5)\n",
        "  conv5 = BatchNormalization(axis = -1)(conv5,training=bn_flag)\n",
        "  conv5 = Conv2D(512, (3, 3), activation='relu', padding='same')(conv5)\n",
        "  conv5 = BatchNormalization(axis = -1)(conv5,training=bn_flag)\n",
        "  pool5 = MaxPooling2D(pool_size=(2, 2))(conv5)\n",
        "  ##\n",
        "  Y = Flatten()(pool5)\n",
        "  \n",
        "  #For the first type of output\n",
        "  out_net1 = Dense(512, activation='relu')(Y)\n",
        "  out_net1 = Dense(512, activation='relu')(out_net1)\n",
        "  out_net1 = Dense(512, activation='relu')(out_net1)\n",
        "  out_net1 = Dense(classes_net1 , activation='softmax')(out_net1)  \n",
        "\n",
        "  #For the first type of output\n",
        "  out_net2 = Dense(512, activation='relu')(Y)\n",
        "  out_net2 = Dense(512, activation='relu')(out_net2)\n",
        "  out_net2 = Dense(512, activation='relu')(out_net2)\n",
        "  out_net2 = Dense(classes_net2 , activation='softmax')(out_net2)\n",
        "\n",
        "  model = Model(inputs=[inputs], outputs=[out_net1, out_net2])\n",
        "  \n",
        "  if weightsPath is not None:\n",
        "    model.load_weights(weightsPath)\n",
        "    \n",
        "  print(model.summary())\n",
        "  return model \n"
      ],
      "execution_count": 0,
      "outputs": []
    },
    {
      "cell_type": "code",
      "metadata": {
        "id": "XnrLWWeXH6jd",
        "colab_type": "code",
        "colab": {}
      },
      "source": [
        "path2data = 'gdrive/My Drive/Project IE 643/IE-643 Data/'\n",
        "classes_net1 , classes_net2 = 2 , 4\n",
        "\n",
        "X = np.load(path2data + 'X.npy')\n",
        "Y_net1 = np.load(path2data + 'Y_net1.npy')\n",
        "Y_net2 = np.load(path2data + 'Y_net2.npy')\n",
        "\n",
        "X = X/255.\n",
        "Y_net1 = to_categorical(Y_net1, classes_net1)\n",
        "Y_net2 = to_categorical(Y_net2, classes_net2)"
      ],
      "execution_count": 0,
      "outputs": []
    },
    {
      "cell_type": "code",
      "metadata": {
        "id": "5SMn8004Qw1V",
        "colab_type": "code",
        "outputId": "f82c9fc8-aa16-4667-af77-224712e7b58c",
        "colab": {
          "base_uri": "https://localhost:8080/",
          "height": 1000
        }
      },
      "source": [
        "model = network()"
      ],
      "execution_count": 0,
      "outputs": [
        {
          "output_type": "stream",
          "text": [
            "WARNING:tensorflow:From /usr/local/lib/python3.6/dist-packages/keras/backend/tensorflow_backend.py:66: The name tf.get_default_graph is deprecated. Please use tf.compat.v1.get_default_graph instead.\n",
            "\n",
            "WARNING:tensorflow:From /usr/local/lib/python3.6/dist-packages/keras/backend/tensorflow_backend.py:541: The name tf.placeholder is deprecated. Please use tf.compat.v1.placeholder instead.\n",
            "\n",
            "WARNING:tensorflow:From /usr/local/lib/python3.6/dist-packages/keras/backend/tensorflow_backend.py:4432: The name tf.random_uniform is deprecated. Please use tf.random.uniform instead.\n",
            "\n",
            "WARNING:tensorflow:From /usr/local/lib/python3.6/dist-packages/keras/backend/tensorflow_backend.py:190: The name tf.get_default_session is deprecated. Please use tf.compat.v1.get_default_session instead.\n",
            "\n",
            "WARNING:tensorflow:From /usr/local/lib/python3.6/dist-packages/keras/backend/tensorflow_backend.py:197: The name tf.ConfigProto is deprecated. Please use tf.compat.v1.ConfigProto instead.\n",
            "\n",
            "WARNING:tensorflow:From /usr/local/lib/python3.6/dist-packages/keras/backend/tensorflow_backend.py:203: The name tf.Session is deprecated. Please use tf.compat.v1.Session instead.\n",
            "\n",
            "WARNING:tensorflow:From /usr/local/lib/python3.6/dist-packages/keras/backend/tensorflow_backend.py:207: The name tf.global_variables is deprecated. Please use tf.compat.v1.global_variables instead.\n",
            "\n",
            "WARNING:tensorflow:From /usr/local/lib/python3.6/dist-packages/keras/backend/tensorflow_backend.py:216: The name tf.is_variable_initialized is deprecated. Please use tf.compat.v1.is_variable_initialized instead.\n",
            "\n",
            "WARNING:tensorflow:From /usr/local/lib/python3.6/dist-packages/keras/backend/tensorflow_backend.py:223: The name tf.variables_initializer is deprecated. Please use tf.compat.v1.variables_initializer instead.\n",
            "\n",
            "WARNING:tensorflow:From /usr/local/lib/python3.6/dist-packages/keras/backend/tensorflow_backend.py:2041: The name tf.nn.fused_batch_norm is deprecated. Please use tf.compat.v1.nn.fused_batch_norm instead.\n",
            "\n",
            "WARNING:tensorflow:From /usr/local/lib/python3.6/dist-packages/keras/backend/tensorflow_backend.py:4267: The name tf.nn.max_pool is deprecated. Please use tf.nn.max_pool2d instead.\n",
            "\n",
            "Model: \"model_1\"\n",
            "__________________________________________________________________________________________________\n",
            "Layer (type)                    Output Shape         Param #     Connected to                     \n",
            "==================================================================================================\n",
            "input_1 (InputLayer)            (None, 256, 256, 3)  0                                            \n",
            "__________________________________________________________________________________________________\n",
            "conv2d_1 (Conv2D)               (None, 256, 256, 64) 1792        input_1[0][0]                    \n",
            "__________________________________________________________________________________________________\n",
            "batch_normalization_1 (BatchNor (None, 256, 256, 64) 256         conv2d_1[0][0]                   \n",
            "__________________________________________________________________________________________________\n",
            "conv2d_2 (Conv2D)               (None, 256, 256, 64) 36928       batch_normalization_1[0][0]      \n",
            "__________________________________________________________________________________________________\n",
            "batch_normalization_2 (BatchNor (None, 256, 256, 64) 256         conv2d_2[0][0]                   \n",
            "__________________________________________________________________________________________________\n",
            "max_pooling2d_1 (MaxPooling2D)  (None, 128, 128, 64) 0           batch_normalization_2[0][0]      \n",
            "__________________________________________________________________________________________________\n",
            "conv2d_3 (Conv2D)               (None, 128, 128, 128 73856       max_pooling2d_1[0][0]            \n",
            "__________________________________________________________________________________________________\n",
            "batch_normalization_3 (BatchNor (None, 128, 128, 128 512         conv2d_3[0][0]                   \n",
            "__________________________________________________________________________________________________\n",
            "conv2d_4 (Conv2D)               (None, 128, 128, 128 147584      batch_normalization_3[0][0]      \n",
            "__________________________________________________________________________________________________\n",
            "batch_normalization_4 (BatchNor (None, 128, 128, 128 512         conv2d_4[0][0]                   \n",
            "__________________________________________________________________________________________________\n",
            "max_pooling2d_2 (MaxPooling2D)  (None, 64, 64, 128)  0           batch_normalization_4[0][0]      \n",
            "__________________________________________________________________________________________________\n",
            "conv2d_5 (Conv2D)               (None, 64, 64, 256)  295168      max_pooling2d_2[0][0]            \n",
            "__________________________________________________________________________________________________\n",
            "batch_normalization_5 (BatchNor (None, 64, 64, 256)  1024        conv2d_5[0][0]                   \n",
            "__________________________________________________________________________________________________\n",
            "conv2d_6 (Conv2D)               (None, 64, 64, 256)  590080      batch_normalization_5[0][0]      \n",
            "__________________________________________________________________________________________________\n",
            "batch_normalization_6 (BatchNor (None, 64, 64, 256)  1024        conv2d_6[0][0]                   \n",
            "__________________________________________________________________________________________________\n",
            "conv2d_7 (Conv2D)               (None, 64, 64, 256)  590080      batch_normalization_6[0][0]      \n",
            "__________________________________________________________________________________________________\n",
            "batch_normalization_7 (BatchNor (None, 64, 64, 256)  1024        conv2d_7[0][0]                   \n",
            "__________________________________________________________________________________________________\n",
            "max_pooling2d_3 (MaxPooling2D)  (None, 32, 32, 256)  0           batch_normalization_7[0][0]      \n",
            "__________________________________________________________________________________________________\n",
            "conv2d_8 (Conv2D)               (None, 32, 32, 512)  1180160     max_pooling2d_3[0][0]            \n",
            "__________________________________________________________________________________________________\n",
            "batch_normalization_8 (BatchNor (None, 32, 32, 512)  2048        conv2d_8[0][0]                   \n",
            "__________________________________________________________________________________________________\n",
            "conv2d_9 (Conv2D)               (None, 32, 32, 512)  2359808     batch_normalization_8[0][0]      \n",
            "__________________________________________________________________________________________________\n",
            "batch_normalization_9 (BatchNor (None, 32, 32, 512)  2048        conv2d_9[0][0]                   \n",
            "__________________________________________________________________________________________________\n",
            "conv2d_10 (Conv2D)              (None, 32, 32, 512)  2359808     batch_normalization_9[0][0]      \n",
            "__________________________________________________________________________________________________\n",
            "batch_normalization_10 (BatchNo (None, 32, 32, 512)  2048        conv2d_10[0][0]                  \n",
            "__________________________________________________________________________________________________\n",
            "max_pooling2d_4 (MaxPooling2D)  (None, 16, 16, 512)  0           batch_normalization_10[0][0]     \n",
            "__________________________________________________________________________________________________\n",
            "conv2d_11 (Conv2D)              (None, 16, 16, 512)  2359808     max_pooling2d_4[0][0]            \n",
            "__________________________________________________________________________________________________\n",
            "batch_normalization_11 (BatchNo (None, 16, 16, 512)  2048        conv2d_11[0][0]                  \n",
            "__________________________________________________________________________________________________\n",
            "conv2d_12 (Conv2D)              (None, 16, 16, 512)  2359808     batch_normalization_11[0][0]     \n",
            "__________________________________________________________________________________________________\n",
            "batch_normalization_12 (BatchNo (None, 16, 16, 512)  2048        conv2d_12[0][0]                  \n",
            "__________________________________________________________________________________________________\n",
            "conv2d_13 (Conv2D)              (None, 16, 16, 512)  2359808     batch_normalization_12[0][0]     \n",
            "__________________________________________________________________________________________________\n",
            "batch_normalization_13 (BatchNo (None, 16, 16, 512)  2048        conv2d_13[0][0]                  \n",
            "__________________________________________________________________________________________________\n",
            "max_pooling2d_5 (MaxPooling2D)  (None, 8, 8, 512)    0           batch_normalization_13[0][0]     \n",
            "__________________________________________________________________________________________________\n",
            "flatten_1 (Flatten)             (None, 32768)        0           max_pooling2d_5[0][0]            \n",
            "__________________________________________________________________________________________________\n",
            "dense_1 (Dense)                 (None, 512)          16777728    flatten_1[0][0]                  \n",
            "__________________________________________________________________________________________________\n",
            "dense_5 (Dense)                 (None, 512)          16777728    flatten_1[0][0]                  \n",
            "__________________________________________________________________________________________________\n",
            "dense_2 (Dense)                 (None, 512)          262656      dense_1[0][0]                    \n",
            "__________________________________________________________________________________________________\n",
            "dense_6 (Dense)                 (None, 512)          262656      dense_5[0][0]                    \n",
            "__________________________________________________________________________________________________\n",
            "dense_3 (Dense)                 (None, 512)          262656      dense_2[0][0]                    \n",
            "__________________________________________________________________________________________________\n",
            "dense_7 (Dense)                 (None, 512)          262656      dense_6[0][0]                    \n",
            "__________________________________________________________________________________________________\n",
            "dense_4 (Dense)                 (None, 2)            1026        dense_3[0][0]                    \n",
            "__________________________________________________________________________________________________\n",
            "dense_8 (Dense)                 (None, 4)            2052        dense_7[0][0]                    \n",
            "==================================================================================================\n",
            "Total params: 49,340,742\n",
            "Trainable params: 49,332,294\n",
            "Non-trainable params: 8,448\n",
            "__________________________________________________________________________________________________\n",
            "None\n"
          ],
          "name": "stdout"
        }
      ]
    },
    {
      "cell_type": "code",
      "metadata": {
        "id": "d8Z2ZWs6IrKM",
        "colab_type": "code",
        "colab": {}
      },
      "source": [
        "path2save = 'gdrive/My Drive/Project IE 643/model.h5'\n",
        "\n",
        "modelCheck = callbacks.ModelCheckpoint(path2save, monitor='loss', verbose=0, mode='auto')\n",
        "\n",
        "opt = adam(lr=1e-5)\n",
        "#Set the compiler parameter for the training\n",
        "model.compile(loss=\"categorical_crossentropy\", optimizer=opt,metrics=[\"categorical_accuracy\"],sample_weight_mode='auto')\n",
        "print (\"Training the Model...\")\n"
      ],
      "execution_count": 0,
      "outputs": []
    },
    {
      "cell_type": "code",
      "metadata": {
        "id": "It2HY1mpPKx9",
        "colab_type": "code",
        "colab": {}
      },
      "source": [
        "# history = model.fit(X , [Y_net1, Y_net2], batch_size=32, epochs=1, verbose=1, callbacks= [modelCheck], shuffle=True)#,validation_data = (x_test , y_test)\n",
        "print (\"Dumping Weights to file...\")"
      ],
      "execution_count": 0,
      "outputs": []
    },
    {
      "cell_type": "code",
      "metadata": {
        "id": "rWZbYSzUPYEf",
        "colab_type": "code",
        "colab": {}
      },
      "source": [
        "a = model.exaluate(X[1:5])"
      ],
      "execution_count": 0,
      "outputs": []
    }
  ]
}